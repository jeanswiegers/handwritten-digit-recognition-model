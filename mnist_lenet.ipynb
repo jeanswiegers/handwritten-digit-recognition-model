{
 "cells": [
  {
   "cell_type": "markdown",
   "id": "aa35031a",
   "metadata": {},
   "source": [
    "# MNIST dataset handwritten digit recognition model (Based on the LeNet convolutional neural network)"
   ]
  },
  {
   "cell_type": "markdown",
   "id": "e4b7398b",
   "metadata": {},
   "source": [
    "MNIST (\"Modified National Institute of Standards and Technology\") is the de facto “hello world” dataset of computer vision. Since its release in 1999, this classic dataset of handwritten images has served as the basis for benchmarking classification algorithms. As new machine learning techniques emerge, MNIST remains a reliable resource for researchers and learners alike.\n",
    "\n",
    "The goal is to correctly identify digits from a dataset of tens of thousands of handwritten images."
   ]
  },
  {
   "cell_type": "code",
   "execution_count": null,
   "id": "0cfb37fd",
   "metadata": {},
   "outputs": [],
   "source": [
    "# Imports\n",
    "import numpy as np\n",
    "import pandas as pd\n",
    "import matplotlib.pyplot as plt\n",
    "\n",
    "import tensorflow as tf\n",
    "from tensorflow.keras.models import Sequential\n",
    "from tensorflow.keras.layers.experimental.preprocessing import Rescaling\n",
    "from tensorflow.keras.preprocessing.image import ImageDataGenerator\n",
    "from tensorflow.keras.optimizers import Adam\n",
    "from tensorflow.keras.layers import Flatten, Dropout, Dense, Activation, MaxPooling2D, Conv2D\n",
    "from tensorflow.keras.utils import to_categorical"
   ]
  },
  {
   "cell_type": "code",
   "execution_count": null,
   "id": "dde0c10f",
   "metadata": {},
   "outputs": [],
   "source": [
    "# Load the datasets (Please note that i added additional training data from a MNIST to CSV dataset to improve the accuracy)\n",
    "original_train_data = pd.read_csv(\"mnist_train.csv\")\n",
    "train_data = pd.read_csv('train.csv')\n",
    "test_data = pd.read_csv('test.csv')"
   ]
  },
  {
   "cell_type": "markdown",
   "id": "cabde7d3",
   "metadata": {},
   "source": [
    "## Preprocessing"
   ]
  },
  {
   "cell_type": "code",
   "execution_count": null,
   "id": "e4c3a18b",
   "metadata": {},
   "outputs": [],
   "source": [
    "# Reshape the original dataset for training and predicting\n",
    "original_train_label = original_train_data['label'].to_numpy().reshape((-1, 1))\n",
    "\n",
    "# Normalize original csv training data pixel values to be between 0 and 1\n",
    "original_train_data = original_train_data.drop('label', axis=1).to_numpy().astype('float') / 255.0\n",
    "\n",
    "# Extract the labels for the training set\n",
    "train_label = train_data['label'].to_numpy().reshape((-1, 1))\n",
    "\n",
    "# Normalize train and test set pixel values to be between 0 and 1\n",
    "train_data = train_data.drop('label', axis=1).to_numpy().astype('float') / 255.0\n",
    "test_data = test_data.to_numpy().astype('float') / 255.0\n",
    "\n",
    "# Concatenate the mnist to csv training data with the original mnist training set to have additional training data\n",
    "train_data = np.vstack((original_train_data, train_data))\n",
    "train_label = np.vstack((original_train_label, train_label))\n",
    "\n",
    "# Reshape the data to represent the images\n",
    "train_data = train_data.reshape((-1, 28, 28, 1))\n",
    "test_data = test_data.reshape((-1, 28, 28, 1))"
   ]
  },
  {
   "cell_type": "code",
   "execution_count": 1,
   "id": "478155b9",
   "metadata": {},
   "outputs": [
    {
     "name": "stdout",
     "output_type": "stream",
     "text": [
      "WARNING:tensorflow:From C:\\Users\\Jean\\anaconda3\\Lib\\site-packages\\keras\\src\\losses.py:2976: The name tf.losses.sparse_softmax_cross_entropy is deprecated. Please use tf.compat.v1.losses.sparse_softmax_cross_entropy instead.\n",
      "\n"
     ]
    },
    {
     "data": {
      "text/plain": [
       "<matplotlib.image.AxesImage at 0x1875451b6d0>"
      ]
     },
     "execution_count": 1,
     "metadata": {},
     "output_type": "execute_result"
    },
    {
     "data": {
      "image/png": "[encoded data removed]",
      "text/plain": [
       "<Figure size 640x480 with 4 Axes>"
      ]
     },
     "metadata": {},
     "output_type": "display_data"
    }
   ],
   "source": [
    "# Preview the data as images using matplotlib\n",
    "fig, ((ax1, ax2), (ax3, ax4)) = plt.subplots(2, 2)\n",
    "fig.suptitle('Preview of handwritten images')\n",
    "ax1.imshow(test_data[np.random.randint(len(test_data))][:, :, 0], cmap='gray')\n",
    "ax2.imshow(test_data[np.random.randint(len(test_data))][:, :, 0], cmap='gray')\n",
    "ax3.imshow(test_data[np.random.randint(len(test_data))][:, :, 0], cmap='gray')\n",
    "ax4.imshow(test_data[np.random.randint(len(test_data))][:, :, 0], cmap='gray')"
   ]
  },
  {
   "cell_type": "code",
   "execution_count": null,
   "id": "04074453",
   "metadata": {},
   "outputs": [],
   "source": [
    "# Convert the labels from integers to vectors\n",
    "trainX = train_data\n",
    "trainY = to_categorical(train_label, num_classes=10)\n",
    "\n",
    "# Construct the image generator for data augmentation (so that imagews are rotated and shifted to improve robustness of the model)\n",
    "augmented_data = ImageDataGenerator(rotation_range=10,\n",
    "                         width_shift_range=0.1,\n",
    "                         height_shift_range=0.1,\n",
    "                         shear_range=0.1,\n",
    "                         zoom_range=0.1,\n",
    "                         fill_mode=\"nearest\")"
   ]
  },
  {
   "cell_type": "markdown",
   "id": "4986baa5",
   "metadata": {},
   "source": [
    "## Modelling "
   ]
  },
  {
   "cell_type": "markdown",
   "id": "7f060b6f",
   "metadata": {},
   "source": [
    "The base model I will be using, LeNet, is among the first published CNNs to capture wide attention for its performance on computer vision tasks. The model was introduced by (and named for) Yann LeCun, then a researcher at AT&T Bell Labs, for the purpose of recognizing handwritten digits in images (LeCun et al., 1998). This work represented the culmination of a decade of research developing the technology; LeCun’s team published the first study to successfully train CNNs via backpropagation (LeCun et al., 1989).\n",
    "\n",
    "At the time LeNet achieved outstanding results matching the performance of support vector machines, then a dominant approach in supervised learning, achieving an error rate of less than 1% per digit. LeNet was eventually adapted to recognize digits for processing deposits in ATM machines. To this day, some ATMs still run the code that Yann LeCun and his colleague Leon Bottou wrote in the 1990s!"
   ]
  },
  {
   "cell_type": "code",
   "execution_count": 2,
   "id": "449da447",
   "metadata": {},
   "outputs": [
    {
     "name": "stdout",
     "output_type": "stream",
     "text": [
      "WARNING:tensorflow:From C:\\Users\\Jean\\anaconda3\\Lib\\site-packages\\keras\\src\\backend.py:873: The name tf.get_default_graph is deprecated. Please use tf.compat.v1.get_default_graph instead.\n",
      "\n",
      "WARNING:tensorflow:From C:\\Users\\Jean\\anaconda3\\Lib\\site-packages\\keras\\src\\layers\\pooling\\max_pooling2d.py:161: The name tf.nn.max_pool is deprecated. Please use tf.nn.max_pool2d instead.\n",
      "\n"
     ]
    }
   ],
   "source": [
    "# Define the model with all its layers. The base of the model is the LeNet CNN.\n",
    "class LeNet:\n",
    "    def __init__(self, input_shape=(224, 224, 3), classes=2):\n",
    "        # Initialize the model\n",
    "        model = Sequential()\n",
    "        inputShape = input_shape  # (height, width, depth)\n",
    "\n",
    "        # First set of CONV => RELU => POOL layers\n",
    "        model.add(Rescaling(scale=1.0 / 255, input_shape=input_shape))\n",
    "        model.add(Conv2D(20, (5, 5), padding=\"same\"))\n",
    "        model.add(Activation(\"relu\"))\n",
    "        model.add(MaxPooling2D(pool_size=(2, 2), strides=(2, 2)))\n",
    "\n",
    "        # Second set of CONV => RELU => POOL layers\n",
    "        model.add(Conv2D(50, (5, 5), padding=\"same\"))\n",
    "        model.add(Activation(\"relu\"))\n",
    "        model.add(MaxPooling2D(pool_size=(2, 2), strides=(2, 2)))\n",
    "\n",
    "        # First (and only) set of FC => RELU layers\n",
    "        model.add(Flatten())\n",
    "        model.add(Dense(500))\n",
    "        model.add(Activation(\"relu\"))\n",
    "\n",
    "        # Softmax classifier\n",
    "        model.add(Dense(classes))\n",
    "        model.add(Activation(\"softmax\"))\n",
    "\n",
    "        # Create model\n",
    "        self.model = model\n",
    "\n",
    "    def get_model(self):\n",
    "        return self.model\n",
    "\n",
    "# Initialize the model\n",
    "model = LeNet(input_shape=(28, 28, 1), classes=10)\n",
    "epochs = 30\n",
    "mymodel = model.get_model()\n",
    "\n",
    "lr_schedule = tf.keras.optimizers.schedules.ExponentialDecay(initial_learning_rate=1e-3, decay_steps=1000, decay_rate=0.9)\n",
    "optimizer = Adam(learning_rate=lr_schedule)\n",
    "mymodel.compile(loss='CategoricalCrossentropy', optimizer=optimizer, metrics=[\"accuracy\"])"
   ]
  },
  {
   "cell_type": "code",
   "execution_count": null,
   "id": "b796269c",
   "metadata": {
    "scrolled": true
   },
   "outputs": [
    {
     "name": "stdout",
     "output_type": "stream",
     "text": [
      "Epoch 1/30\n",
      "WARNING:tensorflow:From C:\\Users\\Jean\\anaconda3\\Lib\\site-packages\\keras\\src\\utils\\tf_utils.py:492: The name tf.ragged.RaggedTensorValue is deprecated. Please use tf.compat.v1.ragged.RaggedTensorValue instead.\n",
      "\n",
      "WARNING:tensorflow:From C:\\Users\\Jean\\anaconda3\\Lib\\site-packages\\keras\\src\\engine\\base_layer_utils.py:384: The name tf.executing_eagerly_outside_functions is deprecated. Please use tf.compat.v1.executing_eagerly_outside_functions instead.\n",
      "\n",
      "1593/1593 [==============================] - 29s 18ms/step - loss: 0.9663 - accuracy: 0.6689\n",
      "Epoch 2/30\n",
      "1593/1593 [==============================] - 29s 18ms/step - loss: 0.2674 - accuracy: 0.9183\n",
      "Epoch 3/30\n",
      "1593/1593 [==============================] - 29s 18ms/step - loss: 0.2013 - accuracy: 0.9382\n",
      "Epoch 4/30\n",
      "1593/1593 [==============================] - 29s 18ms/step - loss: 0.1697 - accuracy: 0.9480\n",
      "Epoch 5/30\n",
      "1593/1593 [==============================] - 29s 18ms/step - loss: 0.1502 - accuracy: 0.9545\n",
      "Epoch 6/30\n",
      "1593/1593 [==============================] - 29s 18ms/step - loss: 0.1383 - accuracy: 0.9571\n",
      "Epoch 7/30\n",
      "1593/1593 [==============================] - 29s 18ms/step - loss: 0.1285 - accuracy: 0.9609\n",
      "Epoch 8/30\n",
      "1593/1593 [==============================] - 29s 18ms/step - loss: 0.1216 - accuracy: 0.9629\n",
      "Epoch 9/30\n",
      "1593/1593 [==============================] - 29s 18ms/step - loss: 0.1155 - accuracy: 0.9640\n",
      "Epoch 10/30\n",
      "1593/1593 [==============================] - 28s 18ms/step - loss: 0.1101 - accuracy: 0.9661\n",
      "Epoch 11/30\n",
      "1593/1593 [==============================] - 29s 18ms/step - loss: 0.1087 - accuracy: 0.9667\n",
      "Epoch 12/30\n",
      "1593/1593 [==============================] - 29s 18ms/step - loss: 0.1035 - accuracy: 0.9682\n",
      "Epoch 13/30\n",
      "1593/1593 [==============================] - 28s 18ms/step - loss: 0.1014 - accuracy: 0.9683\n",
      "Epoch 14/30\n",
      " 308/1593 [====>.........................] - ETA: 22s - loss: 0.1009 - accuracy: 0.9694"
     ]
    }
   ],
   "source": [
    "# Train the network\n",
    "H = mymodel.fit(augmented_data.flow(trainX, trainY, batch_size=64), steps_per_epoch=int(len(trainX) / 64), epochs=epoch_num, verbose=1)"
   ]
  },
  {
   "cell_type": "markdown",
   "id": "d8804cc9",
   "metadata": {},
   "source": [
    "Achieving an accuracy of 99.3%, the LeNet neural network excels in accurately predicting handwritten digits."
   ]
  },
  {
   "cell_type": "markdown",
   "id": "bb0ce6fc",
   "metadata": {},
   "source": [
    "## Predictions"
   ]
  },
  {
   "cell_type": "code",
   "execution_count": null,
   "id": "07d1049a",
   "metadata": {},
   "outputs": [],
   "source": [
    "# Predictions\n",
    "predictions = mymodel.predict(test_data)\n",
    "predictions = [np.argmax(i) for i in predictions]\n",
    "\n",
    "df = pd.DataFrame()\n",
    "df.insert(0, 'ImageId', [i for i in range(1, len(predictions) + 1)])\n",
    "df.insert(1, 'Label', predictions)\n",
    "df.head()\n",
    "\n",
    "df.to_csv('submission.csv', index=False)"
   ]
  }
 ],
 "metadata": {
  "kernelspec": {
   "display_name": "Python 3 (ipykernel)",
   "language": "python",
   "name": "python3"
  },
  "language_info": {
   "codemirror_mode": {
    "name": "ipython",
    "version": 3
   },
   "file_extension": ".py",
   "mimetype": "text/x-python",
   "name": "python",
   "nbconvert_exporter": "python",
   "pygments_lexer": "ipython3",
   "version": "3.11.4"
  }
 },
 "nbformat": 4,
 "nbformat_minor": 5
}
